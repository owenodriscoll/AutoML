{
 "cells": [
  {
   "cell_type": "code",
   "execution_count": 2,
   "id": "f296073f",
   "metadata": {},
   "outputs": [
    {
     "name": "stderr",
     "output_type": "stream",
     "text": [
      "/Users/opodriscoll/miniconda3/envs/env_AutoML/lib/python3.9/site-packages/tqdm/auto.py:21: TqdmWarning: IProgress not found. Please update jupyter and ipywidgets. See https://ipywidgets.readthedocs.io/en/stable/user_install.html\n",
      "  from .autonotebook import tqdm as notebook_tqdm\n"
     ]
    }
   ],
   "source": [
    "# %reset -f\n",
    "\n",
    "import sys\n",
    "import os\n",
    "import numpy as np\n",
    "import pandas as pd \n",
    "import matplotlib.pyplot as plt\n",
    "from sklearn.metrics import mean_squared_error, r2_score, explained_variance_score, median_absolute_error\n",
    "\n",
    "# install custom package with: pip install git+https://github.com/owenodriscoll/AutoML.git\n",
    "sys.path.insert(0, os.path.abspath('..'))  # hacky way to import within package\n",
    "from AutoML import AutomatedRegression\n",
    "from importlib import reload\n",
    "import AutoML; reload(AutoML); from AutoML.misc import outlier_detector, plot_envelope_single\n",
    "# from AutoML.misc import outlier_detector, plot_envelope_single"
   ]
  },
  {
   "cell_type": "code",
   "execution_count": 3,
   "id": "40ac1410",
   "metadata": {},
   "outputs": [],
   "source": [
    "#%% load data\n",
    "\n",
    "data_dir = '/Users/opodriscoll/Documents/Data/'\n",
    "df_rolls = pd.read_csv(f'{data_dir}df_rolls.csv')\n",
    "df_cells = pd.read_csv(f'{data_dir}df_cells.csv')\n",
    "\n",
    "df = pd.concat([df_cells, df_rolls]) "
   ]
  },
  {
   "cell_type": "code",
   "execution_count": 4,
   "id": "5da209bb",
   "metadata": {},
   "outputs": [],
   "source": [
    "#%% filtering of estimates \n",
    "\n",
    "# -- conditions for filtering\n",
    "window_effect_threshhold_low = 0.5\n",
    "window_effect_threshhold_high = 1.5\n",
    "S_windfield_xi_norm_std_threshhold = 0.25\n",
    "inertial_subrange_length_fraction_threshold = 0.2 \n",
    "inertial_subrange_length_threshold = 200 # m\n",
    "peak_max_threshold = 2950\n",
    "peak_min_threshold = 610\n",
    "min_heatflux = 0 # (into atmos)\n",
    "max_obukhov = 0\n",
    "\n",
    "# -- filtering\n",
    "df_val = df.loc[(df['L_era5'] < max_obukhov) & (df['hsb_era5'] > min_heatflux) & (df['hlb_era5'] > min_heatflux)]\n",
    "df_val = df_val[(df_val.window_effect >= window_effect_threshhold_low) & (df_val.window_effect <= window_effect_threshhold_high)]\n",
    "df_val = df_val[df_val.S_windfield_xi_norm_std <= S_windfield_xi_norm_std_threshhold]\n",
    "df_val = df_val[(df_val.spectral_peak - df_val.spectral_valley)/df_val.spectral_peak >= inertial_subrange_length_fraction_threshold]\n",
    "df_val = df_val[((df_val.spectral_peak - df_val.spectral_valley) >= inertial_subrange_length_threshold)]\n",
    "df_val = df_val[(df_val.spectral_peak< peak_max_threshold) & (df_val.spectral_peak > peak_min_threshold)]\n",
    "\n",
    "# -- outlier removal between parameters 'window_effect' and 'S_windfield_xi_norm_std'\n",
    "df_val = outlier_detector(df_val, 'window_effect', 'S_sigma0_xi_norm_std', pca_comp=0.80, neighbours = 100, plot_PCA=False)    # S_normalised_deviation, sign_wind2\n",
    "df_val = df_val.reset_index(drop = True)  \n",
    "\n",
    "# -- select observation data only\n",
    "keep_after_index = list(df_val.keys()).index('U_n') # U_n is first observation column\n",
    "keep_before_index = list(df_val.keys()).index('energy_dir_range') +1 # S_windfield_xi_norm_std is the last measured param \n",
    "df_obs = df_val.iloc[:,keep_after_index:keep_before_index] \n",
    "\n",
    "# -- replace original estimate of Obukhov length by the a logarithmic version \n",
    "df_obs['L'] = np.log10(abs(df_obs['L']))"
   ]
  },
  {
   "cell_type": "code",
   "execution_count": 99,
   "id": "969023c3",
   "metadata": {},
   "outputs": [
    {
     "name": "stderr",
     "output_type": "stream",
     "text": [
      "/Users/opodriscoll/miniconda3/envs/env_AutoML/lib/python3.9/site-packages/pandas/core/arraylike.py:402: RuntimeWarning: invalid value encountered in log10\n",
      "  result = getattr(ufunc, method)(*inputs, **kwargs)\n"
     ]
    },
    {
     "data": {
      "image/png": "[encoded data removed]",
      "text/plain": [
       "<Figure size 640x480 with 1 Axes>"
      ]
     },
     "metadata": {},
     "output_type": "display_data"
    }
   ],
   "source": [
    "#%% Select data, split into X and y- matrix and exclude scenes for analysis later on\n",
    "\n",
    "# -- observation\n",
    "X_sar = df_obs.drop(columns = ['S_sigma0_xi_norm_std', 'S_sigma0_xi_mean', 'wdir'])\n",
    "# X_scat = df_obs[['U_n', 'incidence_avg', 'energy_dir_range']] \n",
    "\n",
    "# -- validation\n",
    "y_deltaT = np.log10(abs(df_val.tsea_era5-df_val.tair_era5))\n",
    "y_hlb = np.log10(df_val['hsb_era5']) # FIXME this should be hsb\n",
    "y_hsb = np.log10(df_val.hlb_era5) # FIXME this should be hlb\n",
    "y_hbb = np.log10(df_val.hbb_era5)\n",
    "y_sshf = np.log10(abs(df_val['sshf_era5']))\n",
    "y_slhf = np.log10(abs(df_val['slhf_era5']))\n",
    "y_L = np.log10(abs(df_val['L_era5']))\n",
    "y_bf = np.log10(abs(df_val['hsb_era5'])) # FIXME this should be another variable\n",
    "\n",
    "\n",
    "# FIXME this should include y_hbb\n",
    "plt.hist(y_deltaT, bins = 100, alpha = 0.5);\n",
    "plt.hist(y_hlb, bins = 100, alpha = 0.5)\n",
    "plt.hist(y_hsb, bins = 100, alpha = 0.5)\n",
    "plt.hist(y_sshf, bins = 100, alpha = 0.5)\n",
    "plt.hist(y_slhf, bins = 100, alpha = 0.5)\n",
    "_ = plt.hist(y_L, bins = 100, alpha = 0.5)\n",
    "_ = plt.hist(y_bf, bins = 100, alpha = 0.5)"
   ]
  },
  {
   "cell_type": "code",
   "execution_count": 100,
   "id": "a65b33f8",
   "metadata": {},
   "outputs": [],
   "source": [
    "#%% Prepare Machine Learning \n",
    "n_trials = 0\n",
    "\n",
    "result_deltaT = AutomatedRegression(\n",
    "    y = y_deltaT, \n",
    "    X = X_sar, \n",
    "    test_frac = 0.2, \n",
    "    timeout = 1200,  # currently times out after 300 seconds, for study set to 2400\n",
    "    n_trial = n_trials,   # currently allowed a max of 20 trials, for study set to 200\n",
    "    metric_optimise = r2_score,\n",
    "    metric_assess = [mean_squared_error, r2_score, explained_variance_score, median_absolute_error],\n",
    "    reload_study = True,\n",
    "    reload_trial_cap=True,\n",
    "    optimisation_direction = 'maximize', \n",
    "    write_folder = \"/Users/opodriscoll/Documents/Scripts/AutoML/examples/testdir/test_deltaT_v0\",\n",
    "    models_to_optimize = ['lightgbm'], #'catboost', 'xgboost'\n",
    "    random_state = 42)\n",
    "\n",
    "result_hlb = AutomatedRegression(\n",
    "    y = y_hlb, \n",
    "    X = X_sar, \n",
    "    test_frac = 0.2, \n",
    "    timeout = 1200,  # currently times out after 300 seconds, for study set to 2400\n",
    "    n_trial = n_trials,   # currently allowed a max of 20 trials, for study set to 200\n",
    "    metric_optimise = r2_score,\n",
    "    metric_assess = [mean_squared_error, r2_score, explained_variance_score, median_absolute_error],\n",
    "    reload_study = True,\n",
    "    reload_trial_cap=True,\n",
    "    optimisation_direction = 'maximize', \n",
    "    write_folder = \"/Users/opodriscoll/Documents/Scripts/AutoML/examples/testdir/test_hlb_v0\",\n",
    "    models_to_optimize = ['lightgbm'], #'catboost', 'xgboost'\n",
    "    random_state = 42)\n",
    "\n",
    "result_hsb = AutomatedRegression(\n",
    "    y = y_hsb, \n",
    "    X = X_sar, \n",
    "    test_frac = 0.2, \n",
    "    timeout = 1200,  # currently times out after 300 seconds, for study set to 2400\n",
    "    n_trial = n_trials,   # currently allowed a max of 20 trials, for study set to 200\n",
    "    metric_optimise = r2_score,\n",
    "    metric_assess = [mean_squared_error, r2_score, explained_variance_score, median_absolute_error],\n",
    "    reload_study = True,\n",
    "    reload_trial_cap=True,\n",
    "    optimisation_direction = 'maximize', \n",
    "    write_folder = \"/Users/opodriscoll/Documents/Scripts/AutoML/examples/testdir/test_hsb_v0\",\n",
    "    models_to_optimize = ['lightgbm'], #'catboost', 'xgboost'\n",
    "    random_state = 42)\n",
    "\n",
    "result_sshf = AutomatedRegression(\n",
    "    y = y_sshf, \n",
    "    X = X_sar, \n",
    "    test_frac = 0.2, \n",
    "    timeout = 1200,  # currently times out after 300 seconds, for study set to 2400\n",
    "    n_trial = n_trials,   # currently allowed a max of 20 trials, for study set to 200\n",
    "    metric_optimise = r2_score,\n",
    "    metric_assess = [mean_squared_error, r2_score, explained_variance_score, median_absolute_error],\n",
    "    reload_study = True,\n",
    "    reload_trial_cap=True,\n",
    "    optimisation_direction = 'maximize', \n",
    "    write_folder = \"/Users/opodriscoll/Documents/Scripts/AutoML/examples/testdir/test_sshf_v0\",\n",
    "    models_to_optimize = ['lightgbm'], #'catboost', 'xgboost'\n",
    "    random_state = 42)\n",
    "\n",
    "result_slhf = AutomatedRegression(\n",
    "    y = y_slhf, \n",
    "    X = X_sar, \n",
    "    test_frac = 0.2, \n",
    "    timeout = 1200,  # currently times out after 300 seconds, for study set to 2400\n",
    "    n_trial = n_trials,   # currently allowed a max of 20 trials, for study set to 200\n",
    "    metric_optimise = r2_score,\n",
    "    metric_assess = [mean_squared_error, r2_score, explained_variance_score, median_absolute_error],\n",
    "    reload_study = True,\n",
    "    reload_trial_cap=True,\n",
    "    optimisation_direction = 'maximize', \n",
    "    write_folder = \"/Users/opodriscoll/Documents/Scripts/AutoML/examples/testdir/test_slhf_v0\",\n",
    "    models_to_optimize = ['lightgbm'], #'catboost', 'xgboost'\n",
    "    random_state = 42)\n",
    "\n",
    "result_L = AutomatedRegression(\n",
    "    y = y_L, \n",
    "    X = X_sar, \n",
    "    test_frac = 0.2, \n",
    "    timeout = 1200,  # currently times out after 300 seconds, for study set to 2400\n",
    "    n_trial = n_trials,   # currently allowed a max of 20 trials, for study set to 200\n",
    "    metric_optimise = r2_score,\n",
    "    metric_assess = [mean_squared_error, r2_score, explained_variance_score, median_absolute_error],\n",
    "    reload_study = True,\n",
    "    reload_trial_cap=True,\n",
    "    optimisation_direction = 'maximize', \n",
    "    write_folder = \"/Users/opodriscoll/Documents/Scripts/AutoML/examples/testdir/test_L_v0\",\n",
    "    models_to_optimize = ['lightgbm'], #'catboost', 'xgboost'\n",
    "    random_state = 42)\n",
    "\n",
    "result_bf = AutomatedRegression(\n",
    "    y = y_bf, \n",
    "    X = X_sar, \n",
    "    test_frac = 0.2, \n",
    "    timeout = 1200,  # currently times out after 300 seconds, for study set to 2400\n",
    "    n_trial = n_trials,   # currently allowed a max of 20 trials, for study set to 200\n",
    "    metric_optimise = r2_score,\n",
    "    metric_assess = [mean_squared_error, r2_score, explained_variance_score, median_absolute_error],\n",
    "    reload_study = True,\n",
    "    reload_trial_cap=True,\n",
    "    optimisation_direction = 'maximize', \n",
    "    write_folder = \"/Users/opodriscoll/Documents/Scripts/AutoML/examples/testdir/test_bf_v0\",\n",
    "    models_to_optimize = ['lightgbm'], #'catboost', 'xgboost'\n",
    "    random_state = 42)\n",
    "\n",
    "\n"
   ]
  },
  {
   "cell_type": "code",
   "execution_count": 101,
   "id": "6ca530fd",
   "metadata": {},
   "outputs": [
    {
     "name": "stderr",
     "output_type": "stream",
     "text": [
      "\u001b[32m[I 2023-10-02 09:41:14,839]\u001b[0m Using an existing study with name 'regression_lightgbm' instead of creating a new one.\u001b[0m\n",
      "\u001b[32m[I 2023-10-02 09:41:14,892]\u001b[0m Using an existing study with name 'regression_lightgbm' instead of creating a new one.\u001b[0m\n",
      "\u001b[32m[I 2023-10-02 09:41:34,689]\u001b[0m Using an existing study with name 'regression_lightgbm' instead of creating a new one.\u001b[0m\n"
     ]
    },
    {
     "name": "stdout",
     "output_type": "stream",
     "text": [
      "_________________________\n",
      "Stacked model overwritten\n",
      "_________________________\n",
      "\n"
     ]
    },
    {
     "name": "stderr",
     "output_type": "stream",
     "text": [
      "\u001b[32m[I 2023-10-02 09:41:34,900]\u001b[0m Using an existing study with name 'regression_lightgbm' instead of creating a new one.\u001b[0m\n",
      "\u001b[32m[I 2023-10-02 09:42:03,845]\u001b[0m Using an existing study with name 'regression_lightgbm' instead of creating a new one.\u001b[0m\n",
      "\u001b[32m[I 2023-10-02 09:42:03,890]\u001b[0m Using an existing study with name 'regression_lightgbm' instead of creating a new one.\u001b[0m\n"
     ]
    },
    {
     "name": "stdout",
     "output_type": "stream",
     "text": [
      "_________________________\n",
      "Stacked model overwritten\n",
      "_________________________\n",
      "\n"
     ]
    },
    {
     "name": "stderr",
     "output_type": "stream",
     "text": [
      "\u001b[32m[I 2023-10-02 09:42:18,769]\u001b[0m Using an existing study with name 'regression_lightgbm' instead of creating a new one.\u001b[0m\n",
      "\u001b[32m[I 2023-10-02 09:42:18,814]\u001b[0m Using an existing study with name 'regression_lightgbm' instead of creating a new one.\u001b[0m\n"
     ]
    },
    {
     "name": "stdout",
     "output_type": "stream",
     "text": [
      "_________________________\n",
      "Stacked model overwritten\n",
      "_________________________\n",
      "\n"
     ]
    },
    {
     "name": "stderr",
     "output_type": "stream",
     "text": [
      "\u001b[32m[I 2023-10-02 09:42:31,335]\u001b[0m Using an existing study with name 'regression_lightgbm' instead of creating a new one.\u001b[0m\n",
      "\u001b[32m[I 2023-10-02 09:42:31,381]\u001b[0m Using an existing study with name 'regression_lightgbm' instead of creating a new one.\u001b[0m\n"
     ]
    },
    {
     "name": "stdout",
     "output_type": "stream",
     "text": [
      "_________________________\n",
      "Stacked model overwritten\n",
      "_________________________\n",
      "\n"
     ]
    },
    {
     "name": "stderr",
     "output_type": "stream",
     "text": [
      "\u001b[32m[I 2023-10-02 09:42:56,018]\u001b[0m Using an existing study with name 'regression_lightgbm' instead of creating a new one.\u001b[0m\n",
      "\u001b[32m[I 2023-10-02 09:42:56,049]\u001b[0m Using an existing study with name 'regression_lightgbm' instead of creating a new one.\u001b[0m\n"
     ]
    },
    {
     "name": "stdout",
     "output_type": "stream",
     "text": [
      "_________________________\n",
      "Stacked model overwritten\n",
      "_________________________\n",
      "\n"
     ]
    },
    {
     "name": "stderr",
     "output_type": "stream",
     "text": [
      "\u001b[32m[I 2023-10-02 09:43:11,033]\u001b[0m Using an existing study with name 'regression_lightgbm' instead of creating a new one.\u001b[0m\n",
      "\u001b[32m[I 2023-10-02 09:43:11,075]\u001b[0m Using an existing study with name 'regression_lightgbm' instead of creating a new one.\u001b[0m\n"
     ]
    },
    {
     "name": "stdout",
     "output_type": "stream",
     "text": [
      "_________________________\n",
      "Stacked model overwritten\n",
      "_________________________\n",
      "\n",
      "_________________________\n",
      "Stacked model overwritten\n",
      "_________________________\n",
      "\n"
     ]
    }
   ],
   "source": [
    "#%% Apply the regression\n",
    "result_deltaT.apply()\n",
    "result_hlb.apply()\n",
    "result_hsb.apply()\n",
    "result_slhf.apply()\n",
    "result_sshf.apply()\n",
    "result_L.apply()\n",
    "result_bf.apply()"
   ]
  },
  {
   "cell_type": "code",
   "execution_count": 102,
   "id": "a7a09edf",
   "metadata": {},
   "outputs": [
    {
     "name": "stdout",
     "output_type": "stream",
     "text": [
      "0.5304021998698971\n",
      "0.5211709391992316\n",
      "0.7944821721874782\n",
      "0.7753974683291711\n",
      "0.5444346289092714\n",
      "0.7828709047742071\n",
      "0.5211709391992316\n"
     ]
    }
   ],
   "source": [
    "print(result_deltaT.summary['lightgbm_best'][1][0])\n",
    "print(result_hlb.summary['lightgbm_best'][1][0])\n",
    "print(result_hsb.summary['lightgbm_best'][1][0])\n",
    "print(result_slhf.summary['lightgbm_best'][1][0])\n",
    "print(result_sshf.summary['lightgbm_best'][1][0])\n",
    "print(result_L.summary['lightgbm_best'][1][0])\n",
    "print(result_bf.summary['lightgbm_best'][1][0])"
   ]
  },
  {
   "cell_type": "code",
   "execution_count": 103,
   "id": "d26056a8",
   "metadata": {},
   "outputs": [
    {
     "name": "stdout",
     "output_type": "stream",
     "text": [
      "0.6028309443343898\n",
      "0.6923334179056231\n",
      "0.7752728963773953\n",
      "0.7615533321645063\n",
      "0.7250372419675859\n",
      "0.3162669449345292\n",
      "0.6923334179056231\n"
     ]
    }
   ],
   "source": [
    "print(r2_score(10**result_deltaT.y_test, 10**result_deltaT.y_pred))\n",
    "print(r2_score(10**result_hlb.y_test, 10**result_hlb.y_pred))\n",
    "print(r2_score(10**result_hsb.y_test, 10**result_hsb.y_pred))\n",
    "print(r2_score(10**result_slhf.y_test, 10**result_slhf.y_pred))\n",
    "print(r2_score(10**result_sshf.y_test, 10**result_sshf.y_pred))\n",
    "print(r2_score(10**result_L.y_test, 10**result_L.y_pred))\n",
    "print(r2_score(10**result_bf.y_test, 10**result_bf.y_pred))"
   ]
  },
  {
   "cell_type": "code",
   "execution_count": null,
   "id": "25d1b1c7",
   "metadata": {},
   "outputs": [
    {
     "data": {
      "image/png": "[encoded data removed]",
      "text/plain": [
       "<Figure size 640x480 with 1 Axes>"
      ]
     },
     "metadata": {},
     "output_type": "display_data"
    }
   ],
   "source": [
    "# -- validation\n",
    "y_deltaT = df_val.tsea_era5-df_val.tair_era5\n",
    "y_hlb = df_val['hsb_era5'] # FIXME this should be hsb\n",
    "y_hsb = df_val.hlb_era5 # FIXME this should be hlb\n",
    "y_hbb = df_val.hbb_era5\n",
    "y_sshf = df_val['sshf_era5']\n",
    "y_slhf = df_val['slhf_era5']\n",
    "y_L = df_val['L_era5']\n",
    "y_bf = df_val['hsb_era5']\n",
    "\n",
    "import matplotlib.pyplot as plt\n",
    "plt.hist(y_deltaT, bins = 100, alpha = 0.5, range = (-200, 200));\n",
    "plt.hist(y_hlb, bins = 100, alpha = 0.5, range = (-200, 200))\n",
    "plt.hist(y_hsb, bins = 100, alpha = 0.5, range = (-200, 200))\n",
    "plt.hist(y_sshf, bins = 100, alpha = 0.5, range = (-200, 200))\n",
    "plt.hist(y_slhf, bins = 100, alpha = 0.5, range = (-200, 200))\n",
    "_ = plt.hist(y_L, bins = 100, alpha = 0.5, range = (-200, 200))\n",
    "_ = plt.hist(y_bf, bins = 100, alpha = 0.5, range = (-200, 200))"
   ]
  },
  {
   "cell_type": "code",
   "execution_count": 69,
   "id": "de21b4f2",
   "metadata": {},
   "outputs": [],
   "source": [
    "#%% Prepare Machine Learning \n",
    "n_trials = 0\n",
    "\n",
    "\n",
    "result_deltaT = AutomatedRegression(\n",
    "    y = y_deltaT, \n",
    "    X = X_sar, \n",
    "    test_frac = 0.2, \n",
    "    timeout = 1200,  # currently times out after 300 seconds, for study set to 2400\n",
    "    n_trial = n_trials,   # currently allowed a max of 20 trials, for study set to 200\n",
    "    metric_optimise = r2_score,\n",
    "    metric_assess = [mean_squared_error, r2_score, explained_variance_score, median_absolute_error],\n",
    "    reload_study = True,\n",
    "    reload_trial_cap=True,\n",
    "    optimisation_direction = 'maximize', \n",
    "    write_folder = \"/Users/opodriscoll/Documents/Scripts/AutoML/examples/testdir/test_deltaT_nonlog_v0\",\n",
    "    models_to_optimize = ['lightgbm'], #'catboost', 'xgboost'\n",
    "    random_state = 42)\n",
    "\n",
    "result_hlb = AutomatedRegression(\n",
    "    y = y_hlb, \n",
    "    X = X_sar, \n",
    "    test_frac = 0.2, \n",
    "    timeout = 1200,  # currently times out after 300 seconds, for study set to 2400\n",
    "    n_trial = n_trials,   # currently allowed a max of 20 trials, for study set to 200\n",
    "    metric_optimise = r2_score,\n",
    "    metric_assess = [mean_squared_error, r2_score, explained_variance_score, median_absolute_error],\n",
    "    reload_study = True,\n",
    "    reload_trial_cap=True,\n",
    "    optimisation_direction = 'maximize', \n",
    "    write_folder = \"/Users/opodriscoll/Documents/Scripts/AutoML/examples/testdir/test_hlb_nonlog_v0\",\n",
    "    models_to_optimize = ['lightgbm'], #'catboost', 'xgboost'\n",
    "    random_state = 42)\n",
    "\n",
    "result_hsb = AutomatedRegression(\n",
    "    y = y_hsb, \n",
    "    X = X_sar, \n",
    "    test_frac = 0.2, \n",
    "    timeout = 1200,  # currently times out after 300 seconds, for study set to 2400\n",
    "    n_trial = n_trials,   # currently allowed a max of 20 trials, for study set to 200\n",
    "    metric_optimise = r2_score,\n",
    "    metric_assess = [mean_squared_error, r2_score, explained_variance_score, median_absolute_error],\n",
    "    reload_study = True,\n",
    "    reload_trial_cap=True,\n",
    "    optimisation_direction = 'maximize', \n",
    "    write_folder = \"/Users/opodriscoll/Documents/Scripts/AutoML/examples/testdir/test_hsb_nonlog_v0\",\n",
    "    models_to_optimize = ['lightgbm'], #'catboost', 'xgboost'\n",
    "    random_state = 42)\n",
    "\n",
    "result_sshf = AutomatedRegression(\n",
    "    y = y_sshf, \n",
    "    X = X_sar, \n",
    "    test_frac = 0.2, \n",
    "    timeout = 1200,  # currently times out after 300 seconds, for study set to 2400\n",
    "    n_trial = n_trials,   # currently allowed a max of 20 trials, for study set to 200\n",
    "    metric_optimise = r2_score,\n",
    "    metric_assess = [mean_squared_error, r2_score, explained_variance_score, median_absolute_error],\n",
    "    reload_study = True,\n",
    "    reload_trial_cap=True,\n",
    "    optimisation_direction = 'maximize', \n",
    "    write_folder = \"/Users/opodriscoll/Documents/Scripts/AutoML/examples/testdir/test_sshf_nonlog_v0\",\n",
    "    models_to_optimize = ['lightgbm'], #'catboost', 'xgboost'\n",
    "    random_state = 42)\n",
    "\n",
    "result_slhf = AutomatedRegression(\n",
    "    y = y_slhf, \n",
    "    X = X_sar, \n",
    "    test_frac = 0.2, \n",
    "    timeout = 1200,  # currently times out after 300 seconds, for study set to 2400\n",
    "    n_trial = n_trials,   # currently allowed a max of 20 trials, for study set to 200\n",
    "    metric_optimise = r2_score,\n",
    "    metric_assess = [mean_squared_error, r2_score, explained_variance_score, median_absolute_error],\n",
    "    reload_study = True,\n",
    "    reload_trial_cap=True,\n",
    "    optimisation_direction = 'maximize', \n",
    "    write_folder = \"/Users/opodriscoll/Documents/Scripts/AutoML/examples/testdir/test_slhf_nonlog_v0\",\n",
    "    models_to_optimize = ['lightgbm'], #'catboost', 'xgboost'\n",
    "    random_state = 42)\n",
    "\n",
    "result_L = AutomatedRegression(\n",
    "    y = y_L, \n",
    "    X = X_sar, \n",
    "    test_frac = 0.2, \n",
    "    timeout = 1200,  # currently times out after 300 seconds, for study set to 2400\n",
    "    n_trial = n_trials,   # currently allowed a max of 20 trials, for study set to 200\n",
    "    metric_optimise = r2_score,\n",
    "    metric_assess = [mean_squared_error, r2_score, explained_variance_score, median_absolute_error],\n",
    "    reload_study = True,\n",
    "    reload_trial_cap=True,\n",
    "    optimisation_direction = 'maximize', \n",
    "    write_folder = \"/Users/opodriscoll/Documents/Scripts/AutoML/examples/testdir/test_L_nonlog_v0\",\n",
    "    models_to_optimize = ['lightgbm'], #'catboost', 'xgboost'\n",
    "    random_state = 42)\n",
    "\n",
    "result_bf = AutomatedRegression(\n",
    "    y = y_bf, \n",
    "    X = X_sar, \n",
    "    test_frac = 0.2, \n",
    "    timeout = 1200,  # currently times out after 300 seconds, for study set to 2400\n",
    "    n_trial = n_trials,   # currently allowed a max of 20 trials, for study set to 200\n",
    "    metric_optimise = r2_score,\n",
    "    metric_assess = [mean_squared_error, r2_score, explained_variance_score, median_absolute_error],\n",
    "    reload_study = True,\n",
    "    reload_trial_cap=True,\n",
    "    optimisation_direction = 'maximize', \n",
    "    write_folder = \"/Users/opodriscoll/Documents/Scripts/AutoML/examples/testdir/test_bf_nonlog_v0\",\n",
    "    models_to_optimize = ['lightgbm'], #'catboost', 'xgboost'\n",
    "    random_state = 42)"
   ]
  },
  {
   "cell_type": "code",
   "execution_count": 71,
   "id": "8239da6a",
   "metadata": {},
   "outputs": [
    {
     "name": "stderr",
     "output_type": "stream",
     "text": [
      "\u001b[32m[I 2023-10-02 08:20:18,734]\u001b[0m Using an existing study with name 'regression_lightgbm' instead of creating a new one.\u001b[0m\n",
      "\u001b[32m[I 2023-10-02 08:20:27,925]\u001b[0m Trial 6 pruned. \u001b[0m\n",
      "\u001b[32m[I 2023-10-02 08:20:46,915]\u001b[0m Trial 7 finished with value: 0.2964382742018713 and parameters: {'scaler': 'standard', 'objective': 'regression', 'max_depth': 5, 'n_estimators': 693, 'max_bin': 255, 'min_gain_to_split': 6.413115275378244, 'lambda_l1': 1.6934490731313353e-08, 'lambda_l2': 9.354548757337708e-08, 'num_leaves': 10, 'feature_fraction': 0.6727693701374023, 'bagging_fraction': 0.382920382968694, 'bagging_freq': 4, 'min_child_samples': 91, 'random_state': 42, 'verbosity': -1, 'transformers': 'quantile_trans', 'n_quantiles': 3100}. Best is trial 1 with value: 0.7284711117101497.\u001b[0m\n",
      "\u001b[32m[I 2023-10-02 08:23:13,580]\u001b[0m Trial 8 pruned. \u001b[0m\n",
      "\u001b[32m[I 2023-10-02 08:23:21,546]\u001b[0m Trial 9 pruned. \u001b[0m\n",
      "\u001b[32m[I 2023-10-02 08:23:39,534]\u001b[0m Trial 10 pruned. \u001b[0m\n",
      "\u001b[32m[I 2023-10-02 08:23:42,670]\u001b[0m Trial 11 pruned. \u001b[0m\n",
      "\u001b[32m[I 2023-10-02 08:24:00,889]\u001b[0m Trial 12 pruned. \u001b[0m\n",
      "\u001b[32m[I 2023-10-02 08:28:42,806]\u001b[0m Trial 13 finished with value: 0.7291965338947412 and parameters: {'scaler': 'robust', 'objective': 'regression', 'max_depth': 14, 'n_estimators': 405, 'max_bin': 1023, 'min_gain_to_split': 5.896465870001406, 'lambda_l1': 1.0676256433841842, 'lambda_l2': 0.004789030842100622, 'num_leaves': 204, 'feature_fraction': 0.5523733837946729, 'bagging_fraction': 0.6192134961637232, 'bagging_freq': 4, 'min_child_samples': 20, 'random_state': 42, 'verbosity': -1, 'transformers': None}. Best is trial 13 with value: 0.7291965338947412.\u001b[0m\n",
      "\u001b[32m[I 2023-10-02 08:32:58,315]\u001b[0m Trial 14 pruned. \u001b[0m\n",
      "\u001b[32m[I 2023-10-02 08:35:42,860]\u001b[0m Trial 15 finished with value: 0.7312298520130712 and parameters: {'scaler': 'minmax', 'objective': 'regression', 'max_depth': 11, 'n_estimators': 194, 'max_bin': 255, 'min_gain_to_split': 3.0476598031953737, 'lambda_l1': 0.0015897463161448915, 'lambda_l2': 5.283881958433519, 'num_leaves': 161, 'feature_fraction': 0.8930533597921613, 'bagging_fraction': 0.6793414629614412, 'bagging_freq': 7, 'min_child_samples': 1, 'random_state': 42, 'verbosity': -1, 'transformers': None}. Best is trial 15 with value: 0.7312298520130712.\u001b[0m\n",
      "\u001b[32m[I 2023-10-02 08:35:52,577]\u001b[0m Trial 16 pruned. \u001b[0m\n",
      "\u001b[32m[I 2023-10-02 08:36:06,482]\u001b[0m Trial 17 finished with value: 0.7235238514288194 and parameters: {'scaler': None, 'objective': 'regression', 'max_depth': 13, 'n_estimators': 57, 'max_bin': 511, 'min_gain_to_split': 0.5602228312382163, 'lambda_l1': 0.25316580535293254, 'lambda_l2': 1.7446799602466025e-05, 'num_leaves': 34, 'feature_fraction': 0.5700189340493239, 'bagging_fraction': 0.7929941977887498, 'bagging_freq': 2, 'min_child_samples': 63, 'random_state': 42, 'verbosity': -1, 'transformers': None}. Best is trial 15 with value: 0.7312298520130712.\u001b[0m\n",
      "\u001b[32m[I 2023-10-02 08:36:16,854]\u001b[0m Trial 18 pruned. \u001b[0m\n",
      "\u001b[32m[I 2023-10-02 08:36:21,117]\u001b[0m Trial 19 pruned. \u001b[0m\n",
      "\u001b[32m[I 2023-10-02 08:39:30,183]\u001b[0m Trial 20 finished with value: 0.7333298339015556 and parameters: {'scaler': 'minmax', 'objective': 'regression', 'max_depth': 11, 'n_estimators': 225, 'max_bin': 255, 'min_gain_to_split': 2.3416378712474257, 'lambda_l1': 0.0033268305296255156, 'lambda_l2': 5.41963550041088, 'num_leaves': 155, 'feature_fraction': 0.8914501200222773, 'bagging_fraction': 0.6939193609366763, 'bagging_freq': 7, 'min_child_samples': 2, 'random_state': 42, 'verbosity': -1, 'transformers': None}. Best is trial 20 with value: 0.7333298339015556.\u001b[0m\n",
      "\u001b[32m[I 2023-10-02 08:41:37,162]\u001b[0m Trial 21 finished with value: 0.7279903247354695 and parameters: {'scaler': 'minmax', 'objective': 'regression', 'max_depth': 12, 'n_estimators': 143, 'max_bin': 255, 'min_gain_to_split': 1.9047726600163015, 'lambda_l1': 0.001972674056884489, 'lambda_l2': 3.7667803497985113, 'num_leaves': 162, 'feature_fraction': 0.9226803533168262, 'bagging_fraction': 0.680206316741277, 'bagging_freq': 7, 'min_child_samples': 2, 'random_state': 42, 'verbosity': -1, 'transformers': None}. Best is trial 20 with value: 0.7333298339015556.\u001b[0m\n",
      "\u001b[32m[I 2023-10-02 08:41:37,176]\u001b[0m Using an existing study with name 'regression_lightgbm' instead of creating a new one.\u001b[0m\n",
      "\u001b[32m[I 2023-10-02 08:42:24,191]\u001b[0m A new study created in RDB with name: regression_lightgbm\u001b[0m\n",
      "\u001b[32m[I 2023-10-02 08:42:25,288]\u001b[0m Trial 0 finished with value: 0.137507558898969 and parameters: {'scaler': 'minmax', 'objective': 'regression', 'max_depth': 5, 'n_estimators': 88, 'max_bin': 127, 'min_gain_to_split': 14.548647782429915, 'lambda_l1': 0.310444354994832, 'lambda_l2': 8.148018307012941e-07, 'num_leaves': 48, 'feature_fraction': 0.2650640588680904, 'bagging_fraction': 0.37381801866358394, 'bagging_freq': 4, 'min_child_samples': 44, 'random_state': 42, 'verbosity': -1, 'transformers': 'quantile_trans', 'n_quantiles': 600}. Best is trial 0 with value: 0.137507558898969.\u001b[0m\n",
      "\u001b[32m[I 2023-10-02 08:43:17,577]\u001b[0m Trial 1 finished with value: 0.44604559027916657 and parameters: {'scaler': 'robust', 'objective': 'regression', 'max_depth': 6, 'n_estimators': 332, 'max_bin': 255, 'min_gain_to_split': 14.233283058799998, 'lambda_l1': 4.905556676028766, 'lambda_l2': 0.1886149587855396, 'num_leaves': 79, 'feature_fraction': 0.1879049026057455, 'bagging_fraction': 0.7158097238609412, 'bagging_freq': 4, 'min_child_samples': 13, 'random_state': 42, 'verbosity': -1, 'transformers': None}. Best is trial 1 with value: 0.44604559027916657.\u001b[0m\n",
      "\u001b[32m[I 2023-10-02 08:44:52,226]\u001b[0m Trial 2 finished with value: 0.41349977012555933 and parameters: {'scaler': None, 'objective': 'regression', 'max_depth': 12, 'n_estimators': 374, 'max_bin': 127, 'min_gain_to_split': 8.968499682166277, 'lambda_l1': 1.9809253750493887, 'lambda_l2': 6.257956190096665e-08, 'num_leaves': 51, 'feature_fraction': 0.14070456001948425, 'bagging_fraction': 0.39279729768693794, 'bagging_freq': 3, 'min_child_samples': 28, 'random_state': 42, 'verbosity': -1, 'transformers': None}. Best is trial 1 with value: 0.44604559027916657.\u001b[0m\n",
      "\u001b[32m[I 2023-10-02 08:45:00,913]\u001b[0m Trial 3 pruned. \u001b[0m\n",
      "\u001b[32m[I 2023-10-02 08:45:06,133]\u001b[0m Trial 4 pruned. \u001b[0m\n",
      "\u001b[32m[I 2023-10-02 08:47:30,556]\u001b[0m Trial 5 pruned. \u001b[0m\n",
      "\u001b[32m[I 2023-10-02 08:47:38,570]\u001b[0m Trial 6 pruned. \u001b[0m\n",
      "\u001b[32m[I 2023-10-02 08:48:46,969]\u001b[0m Trial 7 finished with value: 0.4159791238270155 and parameters: {'scaler': 'robust', 'objective': 'regression', 'max_depth': 7, 'n_estimators': 595, 'max_bin': 63, 'min_gain_to_split': 9.50294566141342, 'lambda_l1': 0.0006637005181157676, 'lambda_l2': 6.495430353937541e-08, 'num_leaves': 215, 'feature_fraction': 0.38870205847456224, 'bagging_fraction': 0.2678666593598688, 'bagging_freq': 1, 'min_child_samples': 60, 'random_state': 42, 'verbosity': -1, 'transformers': None}. Best is trial 1 with value: 0.44604559027916657.\u001b[0m\n",
      "\u001b[32m[I 2023-10-02 08:48:50,106]\u001b[0m Trial 8 pruned. \u001b[0m\n",
      "\u001b[32m[I 2023-10-02 08:48:55,554]\u001b[0m Trial 9 pruned. \u001b[0m\n",
      "\u001b[32m[I 2023-10-02 08:50:38,158]\u001b[0m Trial 10 pruned. \u001b[0m\n",
      "\u001b[32m[I 2023-10-02 08:51:12,230]\u001b[0m Trial 11 finished with value: 0.4454745994643912 and parameters: {'scaler': 'minmax', 'objective': 'regression', 'max_depth': 8, 'n_estimators': 51, 'max_bin': 255, 'min_gain_to_split': 11.648737773388392, 'lambda_l1': 0.0015897463161448915, 'lambda_l2': 5.283881958433519, 'num_leaves': 161, 'feature_fraction': 0.8930533597921613, 'bagging_fraction': 0.9931263989143038, 'bagging_freq': 7, 'min_child_samples': 1, 'random_state': 42, 'verbosity': -1, 'transformers': None}. Best is trial 1 with value: 0.44604559027916657.\u001b[0m\n",
      "\u001b[32m[I 2023-10-02 08:56:04,043]\u001b[0m Trial 12 pruned. \u001b[0m\n",
      "\u001b[32m[I 2023-10-02 08:56:13,555]\u001b[0m Trial 13 pruned. \u001b[0m\n",
      "\u001b[32m[I 2023-10-02 08:56:26,930]\u001b[0m Trial 14 finished with value: 0.46105780943694635 and parameters: {'scaler': None, 'objective': 'regression', 'max_depth': 13, 'n_estimators': 57, 'max_bin': 511, 'min_gain_to_split': 0.5602228312382163, 'lambda_l1': 0.25316580535293254, 'lambda_l2': 1.7446799602466025e-05, 'num_leaves': 34, 'feature_fraction': 0.5700189340493239, 'bagging_fraction': 0.7929941977887498, 'bagging_freq': 2, 'min_child_samples': 63, 'random_state': 42, 'verbosity': -1, 'transformers': None}. Best is trial 14 with value: 0.46105780943694635.\u001b[0m\n",
      "\u001b[32m[I 2023-10-02 08:56:36,730]\u001b[0m Trial 15 pruned. \u001b[0m\n",
      "\u001b[32m[I 2023-10-02 08:56:46,439]\u001b[0m Trial 16 pruned. \u001b[0m\n",
      "\u001b[32m[I 2023-10-02 08:56:50,352]\u001b[0m Trial 17 pruned. \u001b[0m\n",
      "\u001b[32m[I 2023-10-02 08:58:49,871]\u001b[0m Trial 18 finished with value: 0.4379149408360686 and parameters: {'scaler': 'minmax', 'objective': 'regression', 'max_depth': 14, 'n_estimators': 318, 'max_bin': 63, 'min_gain_to_split': 0.3976696581243272, 'lambda_l1': 0.001870596991204509, 'lambda_l2': 2.8978251200615612, 'num_leaves': 148, 'feature_fraction': 0.44935293358586975, 'bagging_fraction': 0.6789593965981179, 'bagging_freq': 4, 'min_child_samples': 55, 'random_state': 42, 'verbosity': -1, 'transformers': None}. Best is trial 14 with value: 0.46105780943694635.\u001b[0m\n",
      "\u001b[32m[I 2023-10-02 08:58:55,583]\u001b[0m Trial 19 finished with value: 0.44245655961096986 and parameters: {'scaler': None, 'objective': 'regression', 'max_depth': 4, 'n_estimators': 53, 'max_bin': 1023, 'min_gain_to_split': 0.349079036037388, 'lambda_l1': 0.21390273781908226, 'lambda_l2': 3.441065765840757e-06, 'num_leaves': 32, 'feature_fraction': 0.7270634488277355, 'bagging_fraction': 0.6660485621018956, 'bagging_freq': 7, 'min_child_samples': 74, 'random_state': 42, 'verbosity': -1, 'transformers': None}. Best is trial 14 with value: 0.46105780943694635.\u001b[0m\n",
      "\u001b[32m[I 2023-10-02 08:58:55,596]\u001b[0m Using an existing study with name 'regression_lightgbm' instead of creating a new one.\u001b[0m\n",
      "\u001b[32m[I 2023-10-02 08:58:59,526]\u001b[0m A new study created in RDB with name: regression_lightgbm\u001b[0m\n",
      "\u001b[32m[I 2023-10-02 08:59:00,704]\u001b[0m Trial 0 finished with value: 0.23210143887378365 and parameters: {'scaler': 'minmax', 'objective': 'regression', 'max_depth': 5, 'n_estimators': 88, 'max_bin': 127, 'min_gain_to_split': 14.548647782429915, 'lambda_l1': 0.310444354994832, 'lambda_l2': 8.148018307012941e-07, 'num_leaves': 48, 'feature_fraction': 0.2650640588680904, 'bagging_fraction': 0.37381801866358394, 'bagging_freq': 4, 'min_child_samples': 44, 'random_state': 42, 'verbosity': -1, 'transformers': 'quantile_trans', 'n_quantiles': 600}. Best is trial 0 with value: 0.23210143887378365.\u001b[0m\n",
      "\u001b[32m[I 2023-10-02 09:00:11,199]\u001b[0m Trial 1 finished with value: 0.7106135692145471 and parameters: {'scaler': 'robust', 'objective': 'regression', 'max_depth': 6, 'n_estimators': 332, 'max_bin': 255, 'min_gain_to_split': 14.233283058799998, 'lambda_l1': 4.905556676028766, 'lambda_l2': 0.1886149587855396, 'num_leaves': 79, 'feature_fraction': 0.1879049026057455, 'bagging_fraction': 0.7158097238609412, 'bagging_freq': 4, 'min_child_samples': 13, 'random_state': 42, 'verbosity': -1, 'transformers': None}. Best is trial 1 with value: 0.7106135692145471.\u001b[0m\n",
      "\u001b[32m[I 2023-10-02 09:01:53,406]\u001b[0m Trial 2 finished with value: 0.6974772052937328 and parameters: {'scaler': None, 'objective': 'regression', 'max_depth': 12, 'n_estimators': 374, 'max_bin': 127, 'min_gain_to_split': 8.968499682166277, 'lambda_l1': 1.9809253750493887, 'lambda_l2': 6.257956190096665e-08, 'num_leaves': 51, 'feature_fraction': 0.14070456001948425, 'bagging_fraction': 0.39279729768693794, 'bagging_freq': 3, 'min_child_samples': 28, 'random_state': 42, 'verbosity': -1, 'transformers': None}. Best is trial 1 with value: 0.7106135692145471.\u001b[0m\n",
      "\u001b[32m[I 2023-10-02 09:02:02,217]\u001b[0m Trial 3 pruned. \u001b[0m\n",
      "\u001b[32m[I 2023-10-02 09:02:07,334]\u001b[0m Trial 4 pruned. \u001b[0m\n",
      "\u001b[32m[I 2023-10-02 09:02:55,729]\u001b[0m Trial 5 pruned. \u001b[0m\n",
      "\u001b[32m[I 2023-10-02 09:03:03,540]\u001b[0m Trial 6 pruned. \u001b[0m\n",
      "\u001b[32m[I 2023-10-02 09:04:27,078]\u001b[0m Trial 7 finished with value: 0.6923648490665942 and parameters: {'scaler': 'robust', 'objective': 'regression', 'max_depth': 7, 'n_estimators': 595, 'max_bin': 63, 'min_gain_to_split': 9.50294566141342, 'lambda_l1': 0.0006637005181157676, 'lambda_l2': 6.495430353937541e-08, 'num_leaves': 215, 'feature_fraction': 0.38870205847456224, 'bagging_fraction': 0.2678666593598688, 'bagging_freq': 1, 'min_child_samples': 60, 'random_state': 42, 'verbosity': -1, 'transformers': None}. Best is trial 1 with value: 0.7106135692145471.\u001b[0m\n",
      "\u001b[32m[I 2023-10-02 09:04:30,167]\u001b[0m Trial 8 pruned. \u001b[0m\n",
      "\u001b[32m[I 2023-10-02 09:04:38,260]\u001b[0m Trial 9 pruned. \u001b[0m\n",
      "\u001b[32m[I 2023-10-02 09:09:37,720]\u001b[0m Trial 10 finished with value: 0.7087197573372996 and parameters: {'scaler': 'robust', 'objective': 'regression', 'max_depth': 14, 'n_estimators': 405, 'max_bin': 1023, 'min_gain_to_split': 5.896465870001406, 'lambda_l1': 1.0676256433841842, 'lambda_l2': 0.004789030842100622, 'num_leaves': 204, 'feature_fraction': 0.5523733837946729, 'bagging_fraction': 0.6192134961637232, 'bagging_freq': 4, 'min_child_samples': 20, 'random_state': 42, 'verbosity': -1, 'transformers': None}. Best is trial 1 with value: 0.7106135692145471.\u001b[0m\n",
      "\u001b[32m[I 2023-10-02 09:10:17,927]\u001b[0m Trial 11 finished with value: 0.7105047598299029 and parameters: {'scaler': 'minmax', 'objective': 'regression', 'max_depth': 8, 'n_estimators': 51, 'max_bin': 255, 'min_gain_to_split': 11.648737773388392, 'lambda_l1': 0.0015897463161448915, 'lambda_l2': 5.283881958433519, 'num_leaves': 161, 'feature_fraction': 0.8930533597921613, 'bagging_fraction': 0.9931263989143038, 'bagging_freq': 7, 'min_child_samples': 1, 'random_state': 42, 'verbosity': -1, 'transformers': None}. Best is trial 1 with value: 0.7106135692145471.\u001b[0m\n",
      "\u001b[32m[I 2023-10-02 09:14:46,418]\u001b[0m Trial 12 pruned. \u001b[0m\n",
      "\u001b[32m[I 2023-10-02 09:14:56,023]\u001b[0m Trial 13 pruned. \u001b[0m\n",
      "\u001b[32m[I 2023-10-02 09:15:10,300]\u001b[0m Trial 14 finished with value: 0.7006997079173037 and parameters: {'scaler': None, 'objective': 'regression', 'max_depth': 13, 'n_estimators': 57, 'max_bin': 511, 'min_gain_to_split': 0.5602228312382163, 'lambda_l1': 0.25316580535293254, 'lambda_l2': 1.7446799602466025e-05, 'num_leaves': 34, 'feature_fraction': 0.5700189340493239, 'bagging_fraction': 0.7929941977887498, 'bagging_freq': 2, 'min_child_samples': 63, 'random_state': 42, 'verbosity': -1, 'transformers': None}. Best is trial 1 with value: 0.7106135692145471.\u001b[0m\n",
      "\u001b[32m[I 2023-10-02 09:15:34,725]\u001b[0m Trial 15 pruned. \u001b[0m\n",
      "\u001b[32m[I 2023-10-02 09:15:45,230]\u001b[0m Trial 16 pruned. \u001b[0m\n",
      "\u001b[32m[I 2023-10-02 09:15:49,464]\u001b[0m Trial 17 pruned. \u001b[0m\n",
      "\u001b[32m[I 2023-10-02 09:18:25,389]\u001b[0m Trial 18 finished with value: 0.7052922769995595 and parameters: {'scaler': 'minmax', 'objective': 'regression', 'max_depth': 14, 'n_estimators': 318, 'max_bin': 63, 'min_gain_to_split': 0.3976696581243272, 'lambda_l1': 0.001870596991204509, 'lambda_l2': 2.8978251200615612, 'num_leaves': 148, 'feature_fraction': 0.44935293358586975, 'bagging_fraction': 0.6789593965981179, 'bagging_freq': 4, 'min_child_samples': 55, 'random_state': 42, 'verbosity': -1, 'transformers': None}. Best is trial 1 with value: 0.7106135692145471.\u001b[0m\n",
      "\u001b[32m[I 2023-10-02 09:18:28,938]\u001b[0m Trial 19 pruned. \u001b[0m\n",
      "\u001b[32m[I 2023-10-02 09:19:33,470]\u001b[0m Trial 20 pruned. \u001b[0m\n",
      "\u001b[32m[I 2023-10-02 09:19:33,484]\u001b[0m Using an existing study with name 'regression_lightgbm' instead of creating a new one.\u001b[0m\n"
     ]
    }
   ],
   "source": [
    "#%% Apply the regression\n",
    "result_deltaT.apply()\n",
    "result_hlb.apply()\n",
    "result_hsb.apply()\n",
    "result_slhf.apply()\n",
    "result_sshf.apply()\n",
    "result_L.apply()\n",
    "result_bf.apply()"
   ]
  },
  {
   "cell_type": "code",
   "execution_count": 91,
   "id": "f5f2f668",
   "metadata": {},
   "outputs": [
    {
     "name": "stdout",
     "output_type": "stream",
     "text": [
      "0.6306286166196807\n",
      "0.7224611548005047\n",
      "0.7709947419452237\n",
      "0.7605642793282399\n",
      "0.7527592970814256\n",
      "0.38102129344972263\n",
      "0.7224611548005047\n"
     ]
    }
   ],
   "source": [
    "print(result_deltaT.summary['lightgbm_best'][1][0])\n",
    "print(result_hlb.summary['lightgbm_best'][1][0])\n",
    "print(result_hsb.summary['lightgbm_best'][1][0])\n",
    "print(result_slhf.summary['lightgbm_best'][1][0])\n",
    "print(result_sshf.summary['lightgbm_best'][1][0])\n",
    "print(result_L.summary['lightgbm_best'][1][0])\n",
    "print(result_bf.summary['lightgbm_best'][1][0])"
   ]
  },
  {
   "cell_type": "code",
   "execution_count": 88,
   "id": "b523a0a1",
   "metadata": {},
   "outputs": [
    {
     "name": "stdout",
     "output_type": "stream",
     "text": [
      "0.49851243102299025\n",
      "0.4357760379248803\n",
      "0.709108538023375\n",
      "0.6787608724233571\n",
      "0.4979007124910182\n",
      "0.7004223982760727\n",
      "0.4357760379248803\n"
     ]
    }
   ],
   "source": [
    "print(r2_score(np.log10(abs(result_deltaT.y_test)), np.log10(abs(result_deltaT.y_pred))))\n",
    "print(r2_score(np.log10(abs(result_hlb.y_test)), np.log10(abs(result_hlb.y_pred))))\n",
    "print(r2_score(np.log10(abs(result_hsb.y_test)), np.log10(abs(result_hsb.y_pred))))\n",
    "print(r2_score(np.log10(abs(result_slhf.y_test)), np.log10(abs(result_slhf.y_pred))))\n",
    "print(r2_score(np.log10(abs(result_sshf.y_test)), np.log10(abs(result_sshf.y_pred))))\n",
    "print(r2_score(np.log10(abs(result_L.y_test)), np.log10(abs(result_L.y_pred))))\n",
    "print(r2_score(np.log10(abs(result_bf.y_test)), np.log10(abs(result_bf.y_pred))))"
   ]
  },
  {
   "cell_type": "code",
   "execution_count": 113,
   "metadata": {},
   "outputs": [
    {
     "data": {
      "text/html": [
       "<div>\n",
       "<style scoped>\n",
       "    .dataframe tbody tr th:only-of-type {\n",
       "        vertical-align: middle;\n",
       "    }\n",
       "\n",
       "    .dataframe tbody tr th {\n",
       "        vertical-align: top;\n",
       "    }\n",
       "\n",
       "    .dataframe thead th {\n",
       "        text-align: right;\n",
       "    }\n",
       "</style>\n",
       "<table border=\"1\" class=\"dataframe\">\n",
       "  <thead>\n",
       "    <tr style=\"text-align: right;\">\n",
       "      <th></th>\n",
       "      <th>log</th>\n",
       "      <th>log_inv_log</th>\n",
       "      <th>none</th>\n",
       "      <th>none_power</th>\n",
       "    </tr>\n",
       "  </thead>\n",
       "  <tbody>\n",
       "    <tr>\n",
       "      <th>delta_T</th>\n",
       "      <td>0.530402</td>\n",
       "      <td>0.602831</td>\n",
       "      <td>0.630629</td>\n",
       "      <td>0.498512</td>\n",
       "    </tr>\n",
       "    <tr>\n",
       "      <th>shf_coare</th>\n",
       "      <td>0.521171</td>\n",
       "      <td>0.692333</td>\n",
       "      <td>0.722461</td>\n",
       "      <td>0.435776</td>\n",
       "    </tr>\n",
       "    <tr>\n",
       "      <th>lhf_coare</th>\n",
       "      <td>0.794482</td>\n",
       "      <td>0.775273</td>\n",
       "      <td>0.770995</td>\n",
       "      <td>0.709109</td>\n",
       "    </tr>\n",
       "    <tr>\n",
       "      <th>lhf_era5</th>\n",
       "      <td>0.775397</td>\n",
       "      <td>0.761553</td>\n",
       "      <td>0.760564</td>\n",
       "      <td>0.678761</td>\n",
       "    </tr>\n",
       "    <tr>\n",
       "      <th>shf_era5</th>\n",
       "      <td>0.544435</td>\n",
       "      <td>0.725037</td>\n",
       "      <td>0.752759</td>\n",
       "      <td>0.497901</td>\n",
       "    </tr>\n",
       "    <tr>\n",
       "      <th>L_coare</th>\n",
       "      <td>0.782871</td>\n",
       "      <td>0.316267</td>\n",
       "      <td>0.381021</td>\n",
       "      <td>0.700422</td>\n",
       "    </tr>\n",
       "    <tr>\n",
       "      <th>buoyancy_coare</th>\n",
       "      <td>0.521171</td>\n",
       "      <td>0.692333</td>\n",
       "      <td>0.722461</td>\n",
       "      <td>0.435776</td>\n",
       "    </tr>\n",
       "  </tbody>\n",
       "</table>\n",
       "</div>"
      ],
      "text/plain": [
       "                     log  log_inv_log      none  none_power\n",
       "delta_T         0.530402     0.602831  0.630629    0.498512\n",
       "shf_coare       0.521171     0.692333  0.722461    0.435776\n",
       "lhf_coare       0.794482     0.775273  0.770995    0.709109\n",
       "lhf_era5        0.775397     0.761553  0.760564    0.678761\n",
       "shf_era5        0.544435     0.725037  0.752759    0.497901\n",
       "L_coare         0.782871     0.316267  0.381021    0.700422\n",
       "buoyancy_coare  0.521171     0.692333  0.722461    0.435776"
      ]
     },
     "execution_count": 113,
     "metadata": {},
     "output_type": "execute_result"
    }
   ],
   "source": [
    "to_log = [0.5304021998698971, 0.5211709391992316, 0.7944821721874782, 0.7753974683291711, 0.5444346289092714, 0.7828709047742071, 0.5211709391992316]\n",
    "to_log_unlog = [0.6028309443343898, 0.6923334179056231, 0.7752728963773953, 0.7615533321645063, 0.7250372419675859, 0.3162669449345292, 0.6923334179056231]\n",
    "to_non = [0.6306286166196807, 0.7224611548005047, 0.7709947419452237, 0.7605642793282399, 0.7527592970814256, 0.38102129344972263, 0.7224611548005047]\n",
    "to_non_power = [0.49851243102299025, 0.4357760379248803, 0.709108538023375, 0.6787608724233571, 0.4979007124910182, 0.7004223982760727, 0.4357760379248803]\n",
    "\n",
    "pd.DataFrame(data = np.array([to_log, to_log_unlog, to_non, to_non_power]).T, \n",
    "             columns = [\"log\", \"log_inv_log\", \"none\", \"none_power\"], \n",
    "             index=[\"delta_T\", \"shf_coare\", \"lhf_coare\", \"lhf_era5\", \"shf_era5\", \"L_coare\", \"buoyancy_coare\"])"
   ]
  },
  {
   "cell_type": "code",
   "execution_count": 135,
   "id": "9801e73e",
   "metadata": {},
   "outputs": [
    {
     "data": {
      "text/plain": [
       "Text(0.5, 1.0, 'log Obukhov length coare')"
      ]
     },
     "execution_count": 135,
     "metadata": {},
     "output_type": "execute_result"
    },
    {
     "data": {
      "image/png": "[encoded data removed]",
      "text/plain": [
       "<Figure size 640x480 with 2 Axes>"
      ]
     },
     "metadata": {},
     "output_type": "display_data"
    },
    {
     "data": {
      "image/png": "[encoded data removed]",
      "text/plain": [
       "<Figure size 640x480 with 2 Axes>"
      ]
     },
     "metadata": {},
     "output_type": "display_data"
    }
   ],
   "source": [
    "# NOTE these figures are from \"log\" and \"log_inv_log\"\n",
    "plt.figure(); plt.hist2d(np.ravel(10**result_hsb.y_pred), np.ravel(10**result_hsb.y_test), bins=(50, 50), cmap=\"magma\", range = [(0, 300), (0,300)]); plt.colorbar(); plt.title(\"log inv log Latent Heat Flux coare\")\n",
    "plt.figure(); plt.hist2d(np.ravel(result_L.y_pred), np.ravel(result_L.y_test), bins=(50, 50), cmap=\"magma\", range = [(0.5, 3), (0.5, 3)]); plt.colorbar(); plt.title(\"log Obukhov length coare\")"
   ]
  }
 ],
 "metadata": {
  "kernelspec": {
   "display_name": "Python 3 (ipykernel)",
   "language": "python",
   "name": "python3"
  },
  "language_info": {
   "codemirror_mode": {
    "name": "ipython",
    "version": 3
   },
   "file_extension": ".py",
   "mimetype": "text/x-python",
   "name": "python",
   "nbconvert_exporter": "python",
   "pygments_lexer": "ipython3",
   "version": "3.9.12"
  }
 },
 "nbformat": 4,
 "nbformat_minor": 5
}
